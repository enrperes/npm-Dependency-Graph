{
 "cells": [
  {
   "cell_type": "markdown",
   "id": "4d85f408",
   "metadata": {},
   "source": [
    "\n",
    "# __Progetto: Analisi dei Grafi__\n",
    "\n",
    "Questo notebook contiene la costruzione e l'analisi di tre tipi di grafi:\n",
    "\n",
    "1. **Grafo delle dipendenze di Angular-cli**:\n",
    "   - Rappresenta le dipendenze del pacchetto `angular-cli`.\n",
    "2. **Grafo artificiale con 400 nodi**:\n",
    "   - Simula una rete con nodi aggiunti tramite un modello di preferential attachment classico.\n",
    "3. **Grafo artificiale con preferential attachment basato su Random Walk** (bonus):\n",
    "   - Variante che utilizza random walk per determinare le connessioni dei nuovi nodi.\n",
    "\n",
    "L'obiettivo è confrontare le proprietà strutturali di queste reti.\n"
   ]
  },
  {
   "cell_type": "markdown",
   "id": "b3f9c30d",
   "metadata": {},
   "source": [
    "# <hr style=\"border: 1px solid white; margin-top: 10px;\">"
   ]
  },
  {
   "cell_type": "markdown",
   "id": "d2db01da",
   "metadata": {},
   "source": [
    "# **Librerie**"
   ]
  },
  {
   "cell_type": "code",
   "execution_count": null,
   "id": "f433970d",
   "metadata": {},
   "outputs": [],
   "source": [
    "import requests, json, collections\n",
    "import networkx as nx\n",
    "from networkx.algorithms.smallworld import sigma, omega\n",
    "import numpy as np\n",
    "from collections import deque\n",
    "from pyvis.network import Network\n",
    "from collections import Counter\n",
    "import matplotlib.pyplot as plt"
   ]
  },
  {
   "cell_type": "markdown",
   "id": "7effef03",
   "metadata": {},
   "source": [
    "# <hr style=\"border: 1px solid white; margin-top: 10px;\">"
   ]
  },
  {
   "cell_type": "markdown",
   "id": "0e39e905",
   "metadata": {},
   "source": [
    "# **Funzioni**"
   ]
  },
  {
   "cell_type": "markdown",
   "id": "8d914dd7",
   "metadata": {},
   "source": [
    "### Grafo Diretto"
   ]
  },
  {
   "cell_type": "code",
   "execution_count": 2,
   "id": "073062f3",
   "metadata": {
    "id": "ecz18Sv4ZY4e"
   },
   "outputs": [],
   "source": [
    "def trova_dipendenze(package_name):\n",
    "    \n",
    "    URL = f\"https://registry.npmjs.org/{package_name}/latest\"\n",
    "    try:\n",
    "        response = requests.get(URL)\n",
    "        if response.status_code != 200:\n",
    "            return {}\n",
    "        data = response.json()\n",
    "        return data.get(\"dependencies\", {})\n",
    "    except Exception as e:\n",
    "        print(f\"Errore con {package_name}: {e}\")\n",
    "        return {}"
   ]
  },
  {
   "cell_type": "code",
   "execution_count": 3,
   "id": "8701802b",
   "metadata": {
    "id": "MGzxowMxZY4f"
   },
   "outputs": [],
   "source": [
    "def bfs_with_cycle_check(seed_package):\n",
    "    G = nx.DiGraph()\n",
    "    coda = deque([(seed_package, 0)])  # Inizializza la coda con il seed\n",
    "    visitati = set()  # Nodi completamente esplorati (neri)\n",
    "    in_corso = set()  # Nodi in fase di esplorazione (grigi)\n",
    "\n",
    "    while coda:\n",
    "        nodo_corrente, livello = coda.popleft()\n",
    "\n",
    "        # Aggiungi il nodo a in_corso (grigio) e al grafo\n",
    "        in_corso.add(nodo_corrente)\n",
    "        G.add_node(nodo_corrente, livello=livello)\n",
    "\n",
    "        # Trova le dipendenze del nodo corrente\n",
    "        dependencies = trova_dipendenze(nodo_corrente)\n",
    "        for dep in dependencies.keys():\n",
    "            if dep in in_corso:\n",
    "                print(\"Ciclo rilevato!\")\n",
    "                return True  # Hai trovato un ciclo\n",
    "\n",
    "            # Aggiungi sempre l'arco (anche verso nodi già visitati)\n",
    "            G.add_edge(nodo_corrente, dep)\n",
    "\n",
    "            # Se il nodo non è stato ancora visitato, aggiungilo alla coda\n",
    "            if dep not in visitati:\n",
    "                coda.append((dep, livello + 1))\n",
    "\n",
    "        # Rimuovi il nodo da in_corso e spostalo in visitati (nero)\n",
    "        in_corso.remove(nodo_corrente)\n",
    "        visitati.add(nodo_corrente)\n",
    "\n",
    "    print(\"Nessun ciclo rilevato!\")\n",
    "    return G  # Restituisce il grafo se non ci sono cicli"
   ]
  },
  {
   "cell_type": "markdown",
   "id": "1e1b2bbe",
   "metadata": {},
   "source": [
    "### Preferential Attachment"
   ]
  },
  {
   "cell_type": "code",
   "execution_count": 4,
   "id": "ce1ca401",
   "metadata": {
    "id": "LdCYCz6EZY4g"
   },
   "outputs": [],
   "source": [
    "def aggiungi_nodi_preferential(G, nodi_artificiali, m):\n",
    "\n",
    "    for i in range(nodi_artificiali):\n",
    "        nuovo_nodo = f\"new_{i}\" # Nome unico per il nuovo nodo\n",
    "        G.add_node(nuovo_nodo)\n",
    "\n",
    "        # Calcola probabilità basata sui gradi attuali\n",
    "        somma_gradi = 2 * G.number_of_edges()\n",
    "        packages = G.nodes()\n",
    "\n",
    "        probabilita = [G.degree(package) / somma_gradi for package in packages]\n",
    "        nodi_scelti = np.random.choice(packages, size = m, replace=False, p = probabilita)\n",
    "\n",
    "\n",
    "        for nodo in nodi_scelti:\n",
    "            G.add_edge(nuovo_nodo, nodo)\n",
    "\n",
    "    return G"
   ]
  },
  {
   "cell_type": "markdown",
   "id": "f87b5f24",
   "metadata": {},
   "source": [
    "### Random Walk"
   ]
  },
  {
   "cell_type": "code",
   "execution_count": 5,
   "id": "150699be",
   "metadata": {},
   "outputs": [],
   "source": [
    "def aggiungi_nodi_random_walk(G, nodi_artificiali, m, p):\n",
    "    for i in range(nodi_artificiali):\n",
    "        nuovo_nodo = f\"new_{i}\"  # Nome unico per il nuovo nodo\n",
    "\n",
    "        # Primo nodo scelto casualmente (uniforme)\n",
    "        nodo_corrente = np.random.choice(list(G.nodes()))\n",
    "        G.add_node(nuovo_nodo)\n",
    "        \n",
    "        # Insieme per tenere traccia dei nodi collegati al nuovo nodo\n",
    "        nodi_collegati = set()\n",
    "        nodi_collegati.add(nuovo_nodo)\n",
    "        \n",
    "        G.add_edge(nuovo_nodo, nodo_corrente)\n",
    "        nodi_collegati.add(nodo_corrente)\n",
    "        \n",
    "        # Aggiungi gli altri m-1 archi\n",
    "        for _ in range(m - 1):\n",
    "            if np.random.rand() < p:\n",
    "                # Collega a un vicino del nodo corrente (se esistono vicini validi)\n",
    "                vicini = [v for v in G.neighbors(nodo_corrente) if v not in nodi_collegati]\n",
    "                if vicini:\n",
    "                    nodo_corrente = np.random.choice(vicini)\n",
    "                    G.add_edge(nuovo_nodo, nodo_corrente)\n",
    "                    nodi_collegati.add(nodo_corrente)\n",
    "            else:\n",
    "                # Collega a un nodo casuale valido\n",
    "                nodi_non_collegati = [n for n in G.nodes() if n not in nodi_collegati]\n",
    "                if nodi_non_collegati:\n",
    "                    nodo_corrente = np.random.choice(nodi_non_collegati)\n",
    "                    G.add_edge(nuovo_nodo, nodo_corrente)\n",
    "                    nodi_collegati.add(nodo_corrente)\n",
    "    \n",
    "    return G"
   ]
  },
  {
   "cell_type": "markdown",
   "id": "a3d1f98c",
   "metadata": {},
   "source": [
    "### Visualizzazione PyVis"
   ]
  },
  {
   "cell_type": "code",
   "execution_count": 6,
   "id": "8e72e50a",
   "metadata": {
    "id": "DRxCrE_Uqkqp"
   },
   "outputs": [],
   "source": [
    "def calcola_quartili(gradi):\n",
    "\n",
    "    q1 = np.percentile(gradi, 25)\n",
    "    q2 = np.percentile(gradi, 50)\n",
    "    q3 = np.percentile(gradi, 75)\n",
    "    return q1, q2, q3\n",
    "\n",
    "def colore_nodo(grado, q1, q2, q3):\n",
    "\n",
    "    if grado <= q1:\n",
    "        return \"gray\"\n",
    "    elif grado <= q2:\n",
    "        return \"blue\"\n",
    "    elif grado <= q3:\n",
    "        return \"purple\"\n",
    "    else:\n",
    "        return \"yellow\""
   ]
  },
  {
   "cell_type": "code",
   "execution_count": 7,
   "id": "7d8acfcb",
   "metadata": {
    "id": "JM-g1HCjk51q"
   },
   "outputs": [],
   "source": [
    "def visualizza_interattivo_con_pyvis(G, nome_file):\n",
    "\n",
    "    # Calcolo grado totale e quartili\n",
    "    if G.is_directed():\n",
    "        gradi = [grado for nodo, grado in G.out_degree()]\n",
    "    else:\n",
    "        gradi = [grado for nodo, grado in G.degree()]\n",
    "\n",
    "    q1, q2, q3 = calcola_quartili(gradi)\n",
    "\n",
    "    # Inizializza PyVis\n",
    "    net = Network(\n",
    "        notebook=True, \n",
    "        height=\"1000px\", \n",
    "        width=\"100%\", \n",
    "        directed=G.is_directed()\n",
    "    )\n",
    "\n",
    "    # Personalizza i nodi\n",
    "    for nodo in G.nodes():\n",
    "        if G.is_directed():\n",
    "            grado = G.out_degree(nodo)\n",
    "        else:\n",
    "            grado = G.degree(nodo)\n",
    "\n",
    "        size = max(0, 3.5*grado)\n",
    "        color = colore_nodo(grado, q1, q2, q3)\n",
    "\n",
    "        net.add_node(\n",
    "            nodo, \n",
    "            size=size, \n",
    "            color={\n",
    "                \"background\": color,\n",
    "                \"border\": \"black\",\n",
    "                \"highlight\" : color\n",
    "            },\n",
    "            borderWidth=0.5,\n",
    "            title=f\"Nodo: {nodo}, Grado: {grado}\"\n",
    "        )\n",
    "\n",
    "    for u, v in G.edges():\n",
    "        net.add_edge(u, v)\n",
    "    \n",
    "    net.set_options(\"\"\"\n",
    "var options = {\n",
    "    \"physics\": {\n",
    "        \"enabled\": true,\n",
    "        \"stabilization\": {\n",
    "            \"enabled\": true,\n",
    "            \"iterations\": 1000\n",
    "        },\n",
    "        \"solver\": \"forceAtlas2Based\",\n",
    "        \"forceAtlas2Based\": {\n",
    "            \"gravitationalConstant\": -50,\n",
    "            \"centralGravity\": 0.01,\n",
    "            \"springLength\": 150,\n",
    "            \"springConstant\": 0.005\n",
    "        },\n",
    "        \"maxVelocity\": 3,\n",
    "        \"minVelocity\": 0.1\n",
    "    },\n",
    "    \"interaction\": {\n",
    "        \"navigationButtons\": true\n",
    "    },\n",
    "    \"edges\": {\n",
    "        \"color\": {\n",
    "            \"color\": \"lightgrey\",\n",
    "            \"highlight\": \"blue\"\n",
    "        },\n",
    "        \"width\": 0.5,\n",
    "        \"selectionWidth\": 4\n",
    "    }\n",
    "}\n",
    "\"\"\")\n",
    "\n",
    "    net.show(nome_file)"
   ]
  },
  {
   "cell_type": "markdown",
   "id": "3f6c6f89",
   "metadata": {},
   "source": [
    "### Small Worldness"
   ]
  },
  {
   "cell_type": "code",
   "execution_count": 8,
   "id": "86f342b5",
   "metadata": {},
   "outputs": [],
   "source": [
    "def calcola_small_worldness(G, niter=5, nrand=10, seed=None):\n",
    "    sigma_value = sigma(G, niter=niter, nrand=nrand, seed=seed)\n",
    "    omega_value = omega(G, niter=niter, nrand=nrand, seed=seed)\n",
    "    return {\"sigma\": sigma_value, \"omega\": omega_value}"
   ]
  },
  {
   "cell_type": "markdown",
   "id": "9e06aa5c",
   "metadata": {},
   "source": [
    "# <hr style=\"border: 1px solid white; margin-top: 10px;\">"
   ]
  },
  {
   "cell_type": "markdown",
   "id": "936dc475",
   "metadata": {},
   "source": [
    "# ___Costruzione Grafi___"
   ]
  },
  {
   "cell_type": "markdown",
   "id": "9433ad7b",
   "metadata": {
    "id": "WogMcNsyZY4c"
   },
   "source": [
    "### ***Costruzione Grafo Diretto***\n",
    "Procediamo con la costruzione del grafo aciclico diretto (DAG) delle dipendenze a partire dal pacchetto seed _angular-cli_. Successivamente, il grafo ottenuto verrà salvato in un file JSON denominato _grafo_diretto.json_."
   ]
  },
  {
   "cell_type": "code",
   "execution_count": null,
   "id": "5583ab03",
   "metadata": {
    "colab": {
     "base_uri": "https://localhost:8080/"
    },
    "id": "7LO5eNYWZY4f",
    "outputId": "ff536efe-bc5f-4ca6-e7e7-5920aba24f03"
   },
   "outputs": [],
   "source": [
    "nome_seed = \"angular-cli\"\n",
    "\n",
    "G = bfs_with_cycle_check(nome_seed)\n",
    "\n",
    "print(f\"Totale pacchetti trovati: {G.number_of_nodes()}\")\n",
    "print(f\"Totale archi trovati: {G.number_of_edges()}\")\n",
    "\n",
    "with open(\"data/grafo_diretto.json\", \"w\") as f:\n",
    "    json.dump(nx.node_link_data(G), f, indent=4)\n",
    "\n",
    "with open(\"graphs/grafo_diretto.json\", \"w\") as f:\n",
    "    json.dump(nx.node_link_data(G), f, indent=4)"
   ]
  },
  {
   "cell_type": "markdown",
   "id": "d7e8a6c0",
   "metadata": {},
   "source": [
    "---"
   ]
  },
  {
   "cell_type": "markdown",
   "id": "43c20087",
   "metadata": {
    "id": "Wdu8wajhZY4g"
   },
   "source": [
    "### ___Costruzione Grafo Artificiale con Preferential Attachment___\n",
    "Si procede alla costruzione del _grafo indiretto_ derivato dal grafo diretto delle dipendenze. A tale grafo vengono aggiunti nodi artificiali, e il grafo risultante viene successivamente salvato in un file JSON denominato _grafo_artificiale.json_."
   ]
  },
  {
   "cell_type": "code",
   "execution_count": 10,
   "id": "496afbdd",
   "metadata": {
    "id": "iCZLoY01ZY4g"
   },
   "outputs": [],
   "source": [
    "G2 = G.to_undirected()"
   ]
  },
  {
   "cell_type": "code",
   "execution_count": null,
   "id": "e0b8cc53",
   "metadata": {
    "colab": {
     "base_uri": "https://localhost:8080/"
    },
    "id": "ylVCp1vPZY4g",
    "outputId": "0b421ccb-7072-43d2-bf30-ddadc3f59dce"
   },
   "outputs": [],
   "source": [
    "# Aggiungi nodi artificiali\n",
    "nodi_artificiali = 400\n",
    "m = 3 # Numero di connessioni per ogni nuovo nodo\n",
    "G2 = aggiungi_nodi_preferential(G2, nodi_artificiali, m)\n",
    "\n",
    "print(f\"Grafo finale: {G2.number_of_nodes()} nodi, {G2.number_of_edges()} archi.\")\n"
   ]
  },
  {
   "cell_type": "code",
   "execution_count": 12,
   "id": "c6aa26e9",
   "metadata": {},
   "outputs": [],
   "source": [
    "with open(\"graphs/grafo_artificiale.json\", \"w\") as f:\n",
    "    json.dump(nx.node_link_data(G2), f, indent=4)"
   ]
  },
  {
   "cell_type": "markdown",
   "id": "ba372739",
   "metadata": {},
   "source": [
    "---"
   ]
  },
  {
   "cell_type": "markdown",
   "id": "eec269c6",
   "metadata": {},
   "source": [
    "### ___Costruzione Grafo Artificiale con Random Walk___\n",
    "_Viene utilizzata una variante del modello di preferential attachment basata su random walk._"
   ]
  },
  {
   "cell_type": "code",
   "execution_count": 13,
   "id": "f73123f7",
   "metadata": {},
   "outputs": [],
   "source": [
    "G3 = G.to_undirected()"
   ]
  },
  {
   "cell_type": "code",
   "execution_count": null,
   "id": "a1c2faed",
   "metadata": {},
   "outputs": [],
   "source": [
    "# Aggiungi nodi usando il random walk\n",
    "G3 = aggiungi_nodi_random_walk(G3, nodi_artificiali, m, p=0.8)\n",
    "print(f\"Grafo finale: {G3.number_of_nodes()} nodi, {G3.number_of_edges()} archi.\")"
   ]
  },
  {
   "cell_type": "code",
   "execution_count": 15,
   "id": "4e5dab35",
   "metadata": {},
   "outputs": [],
   "source": [
    "with open(\"graphs/grafo_artificiale_v2.json\", \"w\") as f:\n",
    "    json.dump(nx.node_link_data(G3), f, indent=4)"
   ]
  },
  {
   "cell_type": "markdown",
   "id": "f426ca29",
   "metadata": {},
   "source": [
    "# <hr style=\"border: 1px solid white; margin-top: 10px;\">"
   ]
  },
  {
   "cell_type": "markdown",
   "id": "b6ac8759",
   "metadata": {},
   "source": [
    "# ___Caricamento dei Grafi da JSON___\n",
    "Invece di ricalcolare i grafi ogni volta, li carichiamo direttamente dai rispettivi file JSON."
   ]
  },
  {
   "cell_type": "code",
   "execution_count": null,
   "id": "03b14019",
   "metadata": {},
   "outputs": [],
   "source": [
    "with open(\"data/grafo_diretto.json\", \"r\") as f:\n",
    "    data = json.load(f)\n",
    "\n",
    "G = nx.node_link_graph(data)  \n",
    "print(f\"Grafo diretto: {G.number_of_nodes()} nodi, {G.number_of_edges()} archi.\")\n",
    "\n",
    "with open(\"graphs/grafo_artificiale.json\", \"r\") as f:\n",
    "    data = json.load(f)\n",
    "\n",
    "G2 = nx.node_link_graph(data)  \n",
    "print(f\"Grafo artificiale: {G2.number_of_nodes()} nodi, {G2.number_of_edges()} archi.\")\n",
    "\n",
    "with open(\"graphs/grafo_artificiale_v2.json\", \"r\") as f:\n",
    "    data = json.load(f)\n",
    "\n",
    "G3 = nx.node_link_graph(data)  \n",
    "print(f\"Grafo artificale v2: {G3.number_of_nodes()} nodi, {G3.number_of_edges()} archi.\")"
   ]
  },
  {
   "cell_type": "markdown",
   "id": "10087117",
   "metadata": {},
   "source": [
    "# <hr style=\"border: 1px solid white; margin-top: 10px;\">"
   ]
  },
  {
   "cell_type": "markdown",
   "id": "67d9263f",
   "metadata": {},
   "source": [
    "# ___Visualizzazione Grafi___"
   ]
  },
  {
   "cell_type": "markdown",
   "id": "6b6fbf32",
   "metadata": {
    "id": "saxGgnblZY4h"
   },
   "source": [
    "### ___Visualizzazione statica dei Grafi___\n",
    "Ora visualizziamo i due grafi in maniera _statica_."
   ]
  },
  {
   "cell_type": "code",
   "execution_count": 17,
   "id": "12bb4f11",
   "metadata": {
    "colab": {
     "base_uri": "https://localhost:8080/",
     "height": 1000
    },
    "id": "64yJfbPOZY4h",
    "outputId": "58f83e8d-f4d0-4a54-a0b8-d93eada000f3"
   },
   "outputs": [],
   "source": [
    "plt.figure(figsize=(15, 15), dpi=200)\n",
    "pos = nx.spring_layout(G, iterations=300, k = 1.05)\n",
    "nx.draw(G, pos, with_labels=True, font_size=5.5, node_size=30, node_color=\"red\", edge_color=\"gray\", width=0.1)\n",
    "plt.savefig(\"grafici2d/grafico_diretto.png\", dpi=200)\n",
    "plt.close()"
   ]
  },
  {
   "cell_type": "code",
   "execution_count": 18,
   "id": "367f27d7",
   "metadata": {
    "colab": {
     "background_save": true
    },
    "id": "L62yegBoZY4h",
    "outputId": "2e995be4-cf0f-4b48-e47a-b9914ae0ba30"
   },
   "outputs": [],
   "source": [
    "plt.figure(figsize=(15, 15), dpi=200)\n",
    "pos = nx.spring_layout(G2, iterations=300, k = 2.5)\n",
    "nx.draw(G2, pos, with_labels=True, font_size=5.5, node_size=30, node_color=\"red\", edge_color=\"gray\", width=0.1)\n",
    "plt.savefig(\"grafici2d/grafico_artificiale.png\", dpi=200)\n",
    "plt.close()"
   ]
  },
  {
   "cell_type": "code",
   "execution_count": 19,
   "id": "c43937ac",
   "metadata": {},
   "outputs": [],
   "source": [
    "# Calcola i gradi dei nodi del grafo G2\n",
    "degree_sequence = [d for n, d in G2.degree()]\n",
    "degree_counts = Counter(degree_sequence)\n",
    "\n",
    "# Ordina i gradi e ottieni le frequenze\n",
    "degrees, counts = zip(*sorted(degree_counts.items()))\n",
    "counts = np.array(counts)\n",
    "\n",
    "# Calcolo della frequenza cumulativa normalizzata\n",
    "cumulative_counts = np.cumsum(counts[::-1])[::-1]  # Frequenza cumulativa\n",
    "cumulative_probs = cumulative_counts / cumulative_counts[0]  # Normalizzazione\n",
    "\n",
    "# Grafico log-log\n",
    "plt.figure(figsize=(8, 6))\n",
    "plt.loglog(degrees, cumulative_probs, marker=\"o\", linestyle=\"none\")\n",
    "plt.title(\"Distribuzione cumulativa del grado (Preferential Attachment)\")\n",
    "plt.xlabel(\"Grado (d)\")\n",
    "plt.ylabel(\"Frequenza cumulativa normalizzata P(d)\")\n",
    "plt.grid(True, which=\"both\", linestyle=\"--\", linewidth=0.5)\n",
    "plt.savefig(\"grafici2d/power_law.png\", dpi=200)\n",
    "plt.close()"
   ]
  },
  {
   "cell_type": "code",
   "execution_count": 20,
   "id": "97e9b0ee",
   "metadata": {},
   "outputs": [],
   "source": [
    "plt.figure(figsize=(15, 15), dpi=200)\n",
    "pos = nx.spring_layout(G3, iterations=300, k = 2.5)\n",
    "nx.draw(G3, pos, with_labels=True, font_size=5.5, node_size=30, node_color=\"red\", edge_color=\"gray\", width=0.1)\n",
    "plt.savefig(\"grafici2d/grafico_artificiale_v2.png\", dpi=200)\n",
    "plt.close()"
   ]
  },
  {
   "cell_type": "code",
   "execution_count": 21,
   "id": "e3d96f0f",
   "metadata": {},
   "outputs": [],
   "source": [
    "# Calcola i gradi dei nodi del grafo G3\n",
    "degree_sequence = [d for n, d in G3.degree()]\n",
    "degree_counts = Counter(degree_sequence)\n",
    "\n",
    "# Ordina i gradi e ottieni le frequenze\n",
    "degrees, counts = zip(*sorted(degree_counts.items()))\n",
    "counts = np.array(counts)\n",
    "\n",
    "# Calcolo della frequenza cumulativa normalizzata\n",
    "cumulative_counts = np.cumsum(counts[::-1])[::-1]  # Frequenza cumulativa\n",
    "cumulative_probs = cumulative_counts / cumulative_counts[0]  # Normalizzazione\n",
    "\n",
    "# Grafico log-log\n",
    "plt.figure(figsize=(8, 6))\n",
    "plt.loglog(degrees, cumulative_probs, marker=\"o\", linestyle=\"none\")\n",
    "plt.title(\"Distribuzione cumulativa del grado (Random Walk)\")\n",
    "plt.xlabel(\"Grado (d)\")\n",
    "plt.ylabel(\"Frequenza cumulativa normalizzata P(d)\")\n",
    "plt.grid(True, which=\"both\", linestyle=\"--\", linewidth=0.5)\n",
    "plt.savefig(\"grafici2d/power_law_v2.png\", dpi=200)\n",
    "plt.close()"
   ]
  },
  {
   "cell_type": "markdown",
   "id": "12595258",
   "metadata": {
    "id": "_OICuAVwbSYk"
   },
   "source": [
    "### ___Visualizzazione interattiva dei Grafi___\n",
    "I grafi sono visualizzati utilizzando la libreria _pyvis_ e sono salvati in formato HTML.\n",
    "<br> I file risultanti sono i seguenti:\n",
    "<br> -> _grafo_diretto_interattivo.html_\n",
    "<br> -> _grafo_artificiale_interattivo.html_"
   ]
  },
  {
   "cell_type": "code",
   "execution_count": null,
   "id": "8bdc59f3",
   "metadata": {
    "colab": {
     "base_uri": "https://localhost:8080/"
    },
    "id": "5B5PxyQzq_5Y",
    "outputId": "62435292-1b64-487a-dffe-dcd818a0b343"
   },
   "outputs": [],
   "source": [
    "visualizza_interattivo_con_pyvis(G, \"html/grafo_diretto_interattivo.html\")"
   ]
  },
  {
   "cell_type": "code",
   "execution_count": null,
   "id": "0b05f63b",
   "metadata": {
    "colab": {
     "base_uri": "https://localhost:8080/",
     "height": 258
    },
    "id": "sbZJyd-0rDCP",
    "outputId": "b60cff38-a98f-44f7-9e7c-d4a6f18dd315"
   },
   "outputs": [],
   "source": [
    "visualizza_interattivo_con_pyvis(G2, \"html/grafo_artificiale_interattivo.html\")"
   ]
  },
  {
   "cell_type": "code",
   "execution_count": null,
   "id": "07d49f85",
   "metadata": {},
   "outputs": [],
   "source": [
    "visualizza_interattivo_con_pyvis(G3, \"html/grafo_artificiale_v2_interattivo.html\")"
   ]
  },
  {
   "cell_type": "markdown",
   "id": "5be5626c",
   "metadata": {},
   "source": [
    "# <hr style=\"border: 1px solid white; margin-top: 10px;\">"
   ]
  },
  {
   "cell_type": "markdown",
   "id": "5d22958b",
   "metadata": {},
   "source": [
    "# ___Calcolo delle metriche___\n",
    "# Scelta per la serializzazione delle metriche\n",
    "\n",
    "Per ciascun grafo (diretto e artificiale), vengono calcolate esclusivamente le metriche pertinenti al loro contesto specifico:\n",
    "- **Grafo diretto**: Vengono calcolate metriche quali PageRank, In-degree e Out-degree, che dipendono dalla direzione degli archi. Le metriche globali come il centro e il raggio sono omesse qualora non applicabili (ad esempio, nel caso in cui il grafo non sia fortemente connesso).\n",
    "- **Grafo artificiale (indiretto)**: In questo caso, vengono calcolate tutte le metriche globali (centro, raggio, distanza media, ecc.), mentre metriche come PageRank o In/Out-degree, che non sono rilevanti per un grafo indiretto, vengono omesse.\n",
    "\n",
    "Qualora una metrica non sia pertinente, essa viene indicata come **null** o “non calcolabile”.\n"
   ]
  },
  {
   "cell_type": "markdown",
   "id": "bebe3ef2",
   "metadata": {},
   "source": [
    "### __GRAFO DIRETTO__"
   ]
  },
  {
   "cell_type": "code",
   "execution_count": null,
   "id": "62e84f92",
   "metadata": {},
   "outputs": [],
   "source": [
    "if nx.is_strongly_connected(G):\n",
    "    print(\"Il grafo delle dipendenze è fortemente connesso.\")\n",
    "else:\n",
    "    print(\"Il grafo delle dipendenze non è fortemente connesso.\")"
   ]
  },
  {
   "cell_type": "code",
   "execution_count": null,
   "id": "5bf76e7a",
   "metadata": {},
   "outputs": [],
   "source": [
    "if nx.is_connected(G3):\n",
    "    print(\"Il grafo delle dipendenze è fortemente connesso.\")\n",
    "else:\n",
    "    print(\"Il grafo delle dipendenze non è fortemente connesso.\")"
   ]
  },
  {
   "cell_type": "code",
   "execution_count": null,
   "id": "00844782",
   "metadata": {},
   "outputs": [],
   "source": [
    "componenti = list(nx.strongly_connected_components(G))\n",
    "print(f\"Numero di componenti fortemente connesse: {len(componenti)}\")\n",
    "print(f\"Numero di nodi: {G.number_of_nodes()}\")"
   ]
  },
  {
   "cell_type": "markdown",
   "id": "255966e1",
   "metadata": {},
   "source": [
    "_misure globali_"
   ]
  },
  {
   "cell_type": "code",
   "execution_count": 28,
   "id": "fe07f3c4",
   "metadata": {},
   "outputs": [],
   "source": [
    "distanze = []\n",
    "for nodo in G.nodes:\n",
    "    lunghezze = nx.single_source_shortest_path_length(G, nodo)\n",
    "    distanze.extend(lunghezze.values())\n",
    "\n",
    "distanza_media = sum(distanze) / len(distanze)\n",
    "distanza_massima = max(distanze)\n",
    "clustering_medio = nx.average_clustering(G)\n",
    "transitivita = nx.transitivity(G)"
   ]
  },
  {
   "cell_type": "markdown",
   "id": "dcc8889e",
   "metadata": {},
   "source": [
    "_misure di centralità_"
   ]
  },
  {
   "cell_type": "code",
   "execution_count": 29,
   "id": "52af5e59",
   "metadata": {},
   "outputs": [],
   "source": [
    "betweenness_centrality = nx.betweenness_centrality(G)\n",
    "closeness_centrality = nx.closeness_centrality(G)\n",
    "degree_centrality = nx.degree_centrality(G)\n",
    "in_degree_centrality = nx.in_degree_centrality(G)\n",
    "out_degree_centrality = nx.out_degree_centrality(G)\n",
    "page_rank = nx.pagerank(G)\n",
    "\n",
    "centrality_measures = {}\n",
    "for nodo in G.nodes:\n",
    "    centrality_measures[nodo] = {\n",
    "        \"betweenness_centrality\": betweenness_centrality.get(nodo, 0),\n",
    "        \"closeness_centrality\": closeness_centrality.get(nodo, 0),\n",
    "        \"degree_centrality\": degree_centrality.get(nodo, 0),\n",
    "        \"in_degree_centrality\": in_degree_centrality.get(nodo, 0),\n",
    "        \"out_degree_centrality\": out_degree_centrality.get(nodo, 0),\n",
    "        \"page_rank\": page_rank.get(nodo, 0)\n",
    "    }"
   ]
  },
  {
   "cell_type": "code",
   "execution_count": null,
   "id": "6e08b9a1",
   "metadata": {},
   "outputs": [],
   "source": [
    "risultati = {\n",
    "    \"global_metrics\": {\n",
    "        \"graph_center\": [\"non calcolabile\"],\n",
    "        \"radius\": \"non calcolabile\",\n",
    "        \"average_distance\": distanza_media,\n",
    "        \"max_distance\": distanza_massima,\n",
    "        \"clustering_coefficient\": clustering_medio,\n",
    "        \"transitivity\": transitivita,\n",
    "    },\n",
    "    \"centrality_measures\": centrality_measures,\n",
    "    \"small_worldness\": \"non calcolabile\"\n",
    "}\n",
    "\n",
    "with open(\"misure/misure_grafo_diretto.json\", \"w\") as f:\n",
    "    json.dump(risultati, f, indent=4)\n",
    "\n",
    "print(\"Analisi completa salvata in misure_grafo_diretto.json\")"
   ]
  },
  {
   "cell_type": "markdown",
   "id": "00a6a0e7",
   "metadata": {},
   "source": [
    "---"
   ]
  },
  {
   "cell_type": "markdown",
   "id": "73ee5e3f",
   "metadata": {},
   "source": [
    "### ___GRAFO ARTIFICIALE___"
   ]
  },
  {
   "cell_type": "markdown",
   "id": "07093e4a",
   "metadata": {},
   "source": [
    "_misure globali_"
   ]
  },
  {
   "cell_type": "code",
   "execution_count": 31,
   "id": "181c73fd",
   "metadata": {},
   "outputs": [],
   "source": [
    "centro = nx.center(G2)\n",
    "raggio = nx.radius(G2)\n",
    "distanza_media = nx.average_shortest_path_length(G2)\n",
    "distanza_massima = nx.diameter(G2)\n",
    "clustering_medio = nx.average_clustering(G2)\n",
    "transitivita = nx.transitivity(G2)"
   ]
  },
  {
   "cell_type": "markdown",
   "id": "bf4dbe7f",
   "metadata": {},
   "source": [
    "_misure di centralità_"
   ]
  },
  {
   "cell_type": "code",
   "execution_count": 32,
   "id": "75721bd1",
   "metadata": {},
   "outputs": [],
   "source": [
    "betweenness_centrality = nx.betweenness_centrality(G2)\n",
    "closeness_centrality = nx.closeness_centrality(G2)\n",
    "degree_centrality = nx.degree_centrality(G2)\n",
    "\n",
    "centrality_measures = {}\n",
    "for nodo in G2.nodes:\n",
    "    centrality_measures[nodo] = {\n",
    "        \"betweenness_centrality\": betweenness_centrality.get(nodo, 0),\n",
    "        \"closeness_centrality\": closeness_centrality.get(nodo, 0),\n",
    "        \"degree_centrality\": degree_centrality.get(nodo, 0),\n",
    "        \"in_degree_centrality\": degree_centrality.get(nodo, 0),\n",
    "        \"out_degree_centrality\": degree_centrality.get(nodo, 0),\n",
    "        \"page_rank\": \"non calcolabile\"\n",
    "    }"
   ]
  },
  {
   "cell_type": "code",
   "execution_count": null,
   "id": "433f9214",
   "metadata": {},
   "outputs": [],
   "source": [
    "risultati = {\n",
    "    \"global_metrics\": {\n",
    "        \"graph_center\": centro,\n",
    "        \"radius\": raggio,\n",
    "        \"average_distance\": distanza_media,\n",
    "        \"max_distance\": distanza_massima,\n",
    "        \"clustering_coefficient\": clustering_medio,\n",
    "        \"transitivity\": transitivita,\n",
    "    },\n",
    "    \"centrality_measures\": centrality_measures,\n",
    "    \"small_worldness\": calcola_small_worldness(G2)\n",
    "}\n",
    "\n",
    "with open(\"misure/misure_grafo_artificiale.json\", \"w\") as f:\n",
    "    json.dump(risultati, f, indent=4)\n",
    "\n",
    "print(\"Analisi completa salvata in misure_grafo_artificiale.json\")"
   ]
  },
  {
   "cell_type": "markdown",
   "id": "f7677c73",
   "metadata": {},
   "source": [
    "---"
   ]
  },
  {
   "cell_type": "markdown",
   "id": "c62ddb55",
   "metadata": {},
   "source": [
    "### ___GRAFO ARTIFICIALE RANDOM WALK___"
   ]
  },
  {
   "cell_type": "markdown",
   "id": "9d8cf1b9",
   "metadata": {},
   "source": [
    "_misure globali_"
   ]
  },
  {
   "cell_type": "code",
   "execution_count": 34,
   "id": "a0847f8d",
   "metadata": {},
   "outputs": [],
   "source": [
    "centro = nx.center(G3)\n",
    "raggio = nx.radius(G3)\n",
    "distanza_media = nx.average_shortest_path_length(G3)\n",
    "distanza_massima = nx.diameter(G3)\n",
    "clustering_medio = nx.average_clustering(G3)\n",
    "transitivita = nx.transitivity(G3)"
   ]
  },
  {
   "cell_type": "markdown",
   "id": "f1707852",
   "metadata": {},
   "source": [
    "_misure di centralità_"
   ]
  },
  {
   "cell_type": "code",
   "execution_count": 35,
   "id": "852e0a37",
   "metadata": {},
   "outputs": [],
   "source": [
    "betweenness_centrality = nx.betweenness_centrality(G3)\n",
    "closeness_centrality = nx.closeness_centrality(G3)\n",
    "degree_centrality = nx.degree_centrality(G3)\n",
    "\n",
    "centrality_measures = {}\n",
    "for nodo in G3.nodes:\n",
    "    centrality_measures[nodo] = {\n",
    "        \"betweenness_centrality\": betweenness_centrality.get(nodo, 0),\n",
    "        \"closeness_centrality\": closeness_centrality.get(nodo, 0),\n",
    "        \"degree_centrality\": degree_centrality.get(nodo, 0),\n",
    "        \"in_degree_centrality\": degree_centrality.get(nodo, 0),\n",
    "        \"out_degree_centrality\": degree_centrality.get(nodo, 0),\n",
    "        \"page_rank\": \"non calcolabile\"\n",
    "    }"
   ]
  },
  {
   "cell_type": "code",
   "execution_count": null,
   "id": "3bfa70c0",
   "metadata": {},
   "outputs": [],
   "source": [
    "risultati = {\n",
    "    \"global_metrics\": {\n",
    "        \"graph_center\": centro,\n",
    "        \"radius\": raggio,\n",
    "        \"average_distance\": distanza_media,\n",
    "        \"max_distance\": distanza_massima,\n",
    "        \"clustering_coefficient\": clustering_medio,\n",
    "        \"transitivity\": transitivita,\n",
    "    },\n",
    "    \"centrality_measures\": centrality_measures,\n",
    "    \"small_worldness\": calcola_small_worldness(G3)\n",
    "}\n",
    "\n",
    "with open(\"misure/misure_grafo_artificiale_v2.json\", \"w\") as f:\n",
    "    json.dump(risultati, f, indent=4)\n",
    "\n",
    "print(\"Analisi completa salvata in misure_grafo_artificiale_v2.json\")"
   ]
  }
 ],
 "metadata": {
  "kernelspec": {
   "display_name": "Python 3",
   "language": "python",
   "name": "python3"
  },
  "language_info": {
   "codemirror_mode": {
    "name": "ipython",
    "version": 3
   },
   "file_extension": ".py",
   "mimetype": "text/x-python",
   "name": "python",
   "nbconvert_exporter": "python",
   "pygments_lexer": "ipython3",
   "version": "3.9.6"
  }
 },
 "nbformat": 4,
 "nbformat_minor": 5
}
