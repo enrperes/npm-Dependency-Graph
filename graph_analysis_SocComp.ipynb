{
 "cells": [
  {
   "cell_type": "code",
   "execution_count": 1,
   "metadata": {
    "ExecuteTime": {
     "end_time": "2024-12-16T15:03:03.686620Z",
     "start_time": "2024-12-16T15:03:02.355850500Z"
    }
   },
   "outputs": [],
   "source": [
    "import requests, json\n",
    "import networkx as nx\n",
    "from networkx.algorithms.smallworld import sigma, omega\n",
    "import numpy as np\n",
    "from collections import deque\n",
    "from pyvis.network import Network\n",
    "import matplotlib.pyplot as plt"
   ]
  },
  {
   "cell_type": "markdown",
   "metadata": {
    "id": "WogMcNsyZY4c"
   },
   "source": [
    "# ***FASE 1***\n",
    "Si costruisce il grafo delle dipendenze a partire dal seed _angular-cli_ e si salva in un file JSON: `grafo_diretto.json`."
   ]
  },
  {
   "cell_type": "code",
   "execution_count": 2,
   "metadata": {
    "ExecuteTime": {
     "end_time": "2024-12-16T15:03:03.713240Z",
     "start_time": "2024-12-16T15:03:03.693162700Z"
    },
    "id": "ecz18Sv4ZY4e"
   },
   "outputs": [],
   "source": [
    "def trova_dipendenze(package_name):\n",
    "    \n",
    "    URL = f\"https://registry.npmjs.org/{package_name}/latest\"\n",
    "    try:\n",
    "        response = requests.get(URL)\n",
    "        if response.status_code != 200:\n",
    "            return {}\n",
    "        data = response.json()\n",
    "        return data.get(\"dependencies\", {})\n",
    "    except Exception as e:\n",
    "        print(f\"Errore con {package_name}: {e}\")\n",
    "        return {}"
   ]
  },
  {
   "cell_type": "code",
   "execution_count": 3,
   "metadata": {
    "ExecuteTime": {
     "end_time": "2024-12-16T15:03:03.777764900Z",
     "start_time": "2024-12-16T15:03:03.720945Z"
    },
    "id": "MGzxowMxZY4f"
   },
   "outputs": [],
   "source": [
    "def bfs_with_nx(seed_package):\n",
    "    G = nx.DiGraph()\n",
    "    coda = deque([(seed_package, 0)])  # Inizializza la coda con il seed\n",
    "    visitati = set()\n",
    "\n",
    "    while coda:\n",
    "        nodo_corrente, livello = coda.popleft()\n",
    "\n",
    "        if nodo_corrente in visitati:\n",
    "            continue\n",
    "\n",
    "        visitati.add(nodo_corrente)\n",
    "        G.add_node(nodo_corrente, livello=livello)  # Aggiunge il nodo con attributi\n",
    "\n",
    "        # Trova le dipendenze del nodo corrente\n",
    "        dependencies = trova_dipendenze(nodo_corrente)\n",
    "        for dep in dependencies.keys():\n",
    "            if dep not in visitati:\n",
    "                G.add_edge(nodo_corrente, dep)  # Aggiunge l'arco\n",
    "                coda.append((dep, livello + 1))  # Aggiunge alla coda\n",
    "\n",
    "    return G"
   ]
  },
  {
   "cell_type": "code",
   "execution_count": 4,
   "metadata": {
    "ExecuteTime": {
     "end_time": "2024-12-16T15:08:51.122271400Z",
     "start_time": "2024-12-16T15:03:03.777764900Z"
    },
    "colab": {
     "base_uri": "https://localhost:8080/"
    },
    "id": "7LO5eNYWZY4f",
    "outputId": "ff536efe-bc5f-4ca6-e7e7-5920aba24f03"
   },
   "outputs": [
    {
     "name": "stdout",
     "output_type": "stream",
     "text": [
      "Totale pacchetti trovati: 586\n",
      "Totale archi trovati: 740\n"
     ]
    }
   ],
   "source": [
    "nome_seed = \"angular-cli\"\n",
    "#creazione del grafo\n",
    "G = bfs_with_nx(nome_seed)\n",
    "\n",
    "print(f\"Totale pacchetti trovati: {G.number_of_nodes()}\")\n",
    "print(f\"Totale archi trovati: {G.number_of_edges()}\")\n",
    "\n",
    "#salvo il grafo in un file\n",
    "with open(\"grafo_diretto.json\", \"w\") as f:\n",
    "    json.dump(nx.node_link_data(G), f, indent=4)"
   ]
  },
  {
   "cell_type": "markdown",
   "metadata": {
    "id": "Wdu8wajhZY4g"
   },
   "source": [
    "# ___FASE 2___\n",
    "Si costruisce il _grafo indiretto_ ottenuto a paritre dal grafo diretto delle dipendenze a cui si aggiungono dei nodi artificiali. <br> Il grafo viene salvato in un file JSON: `grafo_artificiale.json`."
   ]
  },
  {
   "cell_type": "code",
   "execution_count": 5,
   "metadata": {
    "ExecuteTime": {
     "end_time": "2024-12-16T15:08:51.169922700Z",
     "start_time": "2024-12-16T15:08:51.110004800Z"
    },
    "id": "iCZLoY01ZY4g"
   },
   "outputs": [],
   "source": [
    "G2 = G.to_undirected() #creazione del grafo indiretto"
   ]
  },
  {
   "cell_type": "code",
   "execution_count": 6,
   "metadata": {
    "ExecuteTime": {
     "end_time": "2024-12-16T15:08:51.190324600Z",
     "start_time": "2024-12-16T15:08:51.122271400Z"
    },
    "id": "LdCYCz6EZY4g"
   },
   "outputs": [],
   "source": [
    "def aggiungi_nodi_preferential(G, nodi_artificiali, m):\n",
    "\n",
    "    for i in range(nodi_artificiali):\n",
    "        nuovo_nodo = f\"new_{i}\" # Nome unico per il nuovo nodo\n",
    "        G.add_node(nuovo_nodo)\n",
    "\n",
    "        # Calcola probabilità basata sui gradi attuali\n",
    "        somma_gradi = 2 * G.number_of_edges()\n",
    "        packages = G.nodes()\n",
    "\n",
    "        probabilita = [G.degree(package) / somma_gradi for package in packages]\n",
    "        nodi_scelti = np.random.choice(packages, size = m, replace=False, p = probabilita)\n",
    "\n",
    "\n",
    "        for nodo in nodi_scelti:\n",
    "            G.add_edge(nuovo_nodo, nodo)\n",
    "\n",
    "\n",
    "    return G"
   ]
  },
  {
   "cell_type": "code",
   "execution_count": 7,
   "metadata": {
    "ExecuteTime": {
     "end_time": "2024-12-16T15:08:51.741770900Z",
     "start_time": "2024-12-16T15:08:51.130278400Z"
    },
    "colab": {
     "base_uri": "https://localhost:8080/"
    },
    "id": "ylVCp1vPZY4g",
    "outputId": "0b421ccb-7072-43d2-bf30-ddadc3f59dce"
   },
   "outputs": [
    {
     "name": "stdout",
     "output_type": "stream",
     "text": [
      "Grafo finale: 986 nodi, 1940 archi.\n"
     ]
    }
   ],
   "source": [
    "# Aggiungi nodi artificiali\n",
    "nodi_artificiali = 400\n",
    "m = 3 # Numero di connessioni per ogni nuovo nodo\n",
    "G2 = aggiungi_nodi_preferential(G2, nodi_artificiali, m)\n",
    "\n",
    "print(f\"Grafo finale: {G2.number_of_nodes()} nodi, {G2.number_of_edges()} archi.\")\n"
   ]
  },
  {
   "cell_type": "code",
   "execution_count": 8,
   "metadata": {
    "ExecuteTime": {
     "end_time": "2024-12-16T15:08:51.842847Z",
     "start_time": "2024-12-16T15:08:51.751815400Z"
    }
   },
   "outputs": [],
   "source": [
    "#salvo il grafo in un file\n",
    "with open(\"grafo_artificiale.json\", \"w\") as f:\n",
    "    json.dump(nx.node_link_data(G2), f, indent=4)"
   ]
  },
  {
   "cell_type": "markdown",
   "metadata": {},
   "source": [
    "# ___FASE 3___\n",
    "In questa fase vengono letti i file JSON contenenti i dati dei grafi e vengono convertiti in oggetti di NetworkX, `G` e `G2`. Per ognuno viene stampato il numero di nodi e archi."
   ]
  },
  {
   "cell_type": "code",
   "execution_count": 9,
   "metadata": {
    "ExecuteTime": {
     "end_time": "2024-12-16T15:08:51.913032900Z",
     "start_time": "2024-12-16T15:08:51.812295100Z"
    }
   },
   "outputs": [
    {
     "name": "stdout",
     "output_type": "stream",
     "text": [
      "Grafo diretto finale: 586 nodi, 740 archi.\n",
      "Grafo indiretto finale: 986 nodi, 1940 archi.\n"
     ]
    }
   ],
   "source": [
    "with open(\"grafo_diretto.json\", \"r\") as f:\n",
    "    data = json.load(f)\n",
    "\n",
    "G = nx.node_link_graph(data)  \n",
    "print(f\"Grafo diretto finale: {G.number_of_nodes()} nodi, {G.number_of_edges()} archi.\")\n",
    "\n",
    "with open(\"grafo_artificiale.json\", \"r\") as f:\n",
    "    data = json.load(f)\n",
    "\n",
    "G2 = nx.node_link_graph(data)  \n",
    "print(f\"Grafo indiretto finale: {G2.number_of_nodes()} nodi, {G2.number_of_edges()} archi.\")"
   ]
  },
  {
   "cell_type": "markdown",
   "metadata": {
    "id": "saxGgnblZY4h"
   },
   "source": [
    "# ___FASE 4___\n",
    "In questa fase vengono visualizzati i due grafi in maniera _statica_ utilizzando il layout di Fruchterman-Reingold."
   ]
  },
  {
   "cell_type": "code",
   "execution_count": null,
   "metadata": {
    "ExecuteTime": {
     "start_time": "2024-12-16T15:08:51.903029800Z"
    },
    "colab": {
     "base_uri": "https://localhost:8080/",
     "height": 1000
    },
    "id": "64yJfbPOZY4h",
    "is_executing": true,
    "outputId": "58f83e8d-f4d0-4a54-a0b8-d93eada000f3"
   },
   "outputs": [],
   "source": [
    "plt.figure(figsize=(15, 15), dpi=400)\n",
    "pos = nx.spring_layout(G, iterations=300, k = 1.05)\n",
    "nx.draw(G, pos, with_labels=True, font_size=5.5, node_size=30, node_color=\"red\", edge_color=\"gray\", width=0.1)\n",
    "plt.savefig(\"grafico1.png\", dpi=500)\n",
    "plt.show()"
   ]
  },
  {
   "cell_type": "code",
   "execution_count": null,
   "metadata": {
    "colab": {
     "background_save": true
    },
    "id": "L62yegBoZY4h",
    "is_executing": true,
    "outputId": "2e995be4-cf0f-4b48-e47a-b9914ae0ba30"
   },
   "outputs": [],
   "source": [
    "plt.figure(figsize=(15, 15), dpi=400)\n",
    "pos = nx.spring_layout(G2, iterations=300, k = 2)\n",
    "nx.draw(G2, pos, with_labels=True, font_size=5.5, node_size=30, node_color=\"red\", edge_color=\"gray\", width=0.1)\n",
    "plt.savefig(\"grafico2.png\", dpi=500)\n",
    "plt.show()"
   ]
  },
  {
   "cell_type": "markdown",
   "metadata": {
    "id": "_OICuAVwbSYk"
   },
   "source": [
    "# ___FASE 5___\n",
    "Utlizzando la libreria `pyvis` si visualizzano i due grafi in maniera _interattiva_.\n",
    "- `grafo1_interattivo.html`\n",
    "- `grafo2_interattivo.html`"
   ]
  },
  {
   "cell_type": "code",
   "execution_count": null,
   "metadata": {
    "id": "DRxCrE_Uqkqp",
    "is_executing": true
   },
   "outputs": [],
   "source": [
    "def calcola_quartili(gradi):\n",
    "\n",
    "    q1 = np.percentile(gradi, 25) #primo quartile\n",
    "    q2 = np.percentile(gradi, 50) #secondo quartile\n",
    "    q3 = np.percentile(gradi, 75) #terzo quartile\n",
    "    return q1, q2, q3\n",
    "\n",
    "#funzione che assegna il colore al nodo sulla base del quartile di appartenenza\n",
    "def colore_nodo(grado, q1, q2, q3):\n",
    "\n",
    "    if grado <= q1:\n",
    "        return \"gray\"\n",
    "    elif grado <= q2:\n",
    "        return \"blue\"\n",
    "    elif grado <= q3:\n",
    "        return \"purple\"\n",
    "    else:\n",
    "        return \"yellow\""
   ]
  },
  {
   "cell_type": "code",
   "execution_count": null,
   "metadata": {
    "id": "JM-g1HCjk51q",
    "is_executing": true
   },
   "outputs": [],
   "source": [
    "def visualizza_interattivo_con_pyvis(G, nome_file):\n",
    "\n",
    "    # Calcolo grado totale e quartili\n",
    "    if G.is_directed():\n",
    "        grado = [grado for nodo, grado in G.out_degree()]\n",
    "    else:\n",
    "        grado = [grado for nodo, grado in G.degree()]\n",
    "\n",
    "    grado_tot = sum(grado)\n",
    "    print(f\"Grado totale: {grado_tot}\")\n",
    "\n",
    "    q1, q2, q3 = calcola_quartili(grado)\n",
    "\n",
    "    # Inizializza PyVis\n",
    "    net = Network(\n",
    "        notebook=True, \n",
    "        height=\"1000px\", \n",
    "        width=\"100%\", \n",
    "        directed=G.is_directed()\n",
    "    )\n",
    "\n",
    "    # Personalizza i nodi\n",
    "    for nodo in G.nodes():\n",
    "        if G.is_directed():\n",
    "            grado = G.out_degree(nodo)\n",
    "        else:\n",
    "            grado = G.degree(nodo)\n",
    "\n",
    "        size = max(0, 3.5*grado)\n",
    "        color = colore_nodo(grado, q1, q2, q3)\n",
    "\n",
    "        net.add_node(\n",
    "            nodo, \n",
    "            size=size, \n",
    "            color={\n",
    "                \"background\": color,\n",
    "                \"border\": \"black\",\n",
    "                \"highlight\" : color\n",
    "            },\n",
    "            borderWidth=0.5,\n",
    "            title=f\"Nodo: {nodo}, Grado: {grado}\"\n",
    "        )\n",
    "\n",
    "    for u, v in G.edges():\n",
    "        net.add_edge(u, v)\n",
    "    \n",
    "    net.set_options(\"\"\"\n",
    "var options = {\n",
    "    \"physics\": {\n",
    "        \"enabled\": true,\n",
    "        \"stabilization\": {\n",
    "            \"enabled\": true,\n",
    "            \"iterations\": 1000\n",
    "        },\n",
    "        \"solver\": \"forceAtlas2Based\",\n",
    "        \"forceAtlas2Based\": {\n",
    "            \"gravitationalConstant\": -50,\n",
    "            \"centralGravity\": 0.01,\n",
    "            \"springLength\": 150,\n",
    "            \"springConstant\": 0.005\n",
    "        },\n",
    "        \"maxVelocity\": 3,\n",
    "        \"minVelocity\": 0.1\n",
    "    },\n",
    "    \"interaction\": {\n",
    "        \"navigationButtons\": true\n",
    "    },\n",
    "    \"edges\": {\n",
    "        \"color\": {\n",
    "            \"color\": \"lightgrey\",\n",
    "            \"highlight\": \"blue\"\n",
    "        },\n",
    "        \"width\": 0.5,\n",
    "        \"selectionWidth\": 4\n",
    "    }\n",
    "}\n",
    "\"\"\")\n",
    "\n",
    "    net.show(nome_file)"
   ]
  },
  {
   "cell_type": "code",
   "execution_count": null,
   "metadata": {
    "colab": {
     "base_uri": "https://localhost:8080/"
    },
    "id": "5B5PxyQzq_5Y",
    "is_executing": true,
    "outputId": "62435292-1b64-487a-dffe-dcd818a0b343"
   },
   "outputs": [],
   "source": [
    "visualizza_interattivo_con_pyvis(G, \"grafo1_interattivo.html\")"
   ]
  },
  {
   "cell_type": "code",
   "execution_count": null,
   "metadata": {
    "colab": {
     "base_uri": "https://localhost:8080/",
     "height": 258
    },
    "id": "sbZJyd-0rDCP",
    "is_executing": true,
    "outputId": "b60cff38-a98f-44f7-9e7c-d4a6f18dd315"
   },
   "outputs": [],
   "source": [
    "visualizza_interattivo_con_pyvis(G2, \"grafo2_interattivo.html\")"
   ]
  },
  {
   "cell_type": "markdown",
   "metadata": {},
   "source": [
    "# ___FASE 6___\n",
    "# Scelta per la serializzazione delle metriche\n",
    "\n",
    "Per ciascun grafo (diretto e artificiale), vengono calcolate esclusivamente le misure pertinenti al loro contesto specifico: \n",
    "- **Grafo diretto**: vengono calcolate misure dipendenti dalla direzione (PageRank, In-degree, Out-degree). Misure globali come centro e raggio sono escluse se non applicabili (ad esempio, se il grafo non è fortemente connesso).\n",
    "- **Grafo artificiale (indiretto)**: vengono calcolate tutte le misure globali (centro, raggio, distanza media, ecc.), ma vengono escluse misure come PageRank o In/Out-degree, non pertinenti in un grafo indiretto. \n"
   ]
  },
  {
   "cell_type": "markdown",
   "metadata": {},
   "source": [
    "// Avevo pensato di calcolare tutto adattando alcune misure (tipo centro sulla versione indiretta per il diretto), ma poi mi sembrava più complicato da spiegare e forse meno corretto. Da chiedere al prof:\n",
    "1. Va bene lasciare fuori le misure che non hanno senso?\n",
    "2. Posso adattare i calcoli (tipo usare il grafo indiretto) o meglio lasciare null e basta?\n"
   ]
  },
  {
   "cell_type": "code",
   "execution_count": null,
   "metadata": {
    "is_executing": true
   },
   "outputs": [],
   "source": [
    "#funzione per stimare la small-worldness con sigma e omega\n",
    "def calcola_small_worldness(G, niter=5, nrand=10, seed=None):\n",
    "    sigma_value = sigma(G, niter=niter, nrand=nrand, seed=seed)\n",
    "    omega_value = omega(G, niter=niter, nrand=nrand, seed=seed)\n",
    "    return {\"sigma\": sigma_value, \"omega\": omega_value}"
   ]
  },
  {
   "cell_type": "markdown",
   "metadata": {},
   "source": [
    "__GRAFO DIRETTO__"
   ]
  },
  {
   "cell_type": "markdown",
   "metadata": {},
   "source": [
    "_misure globali_"
   ]
  },
  {
   "cell_type": "code",
   "execution_count": null,
   "metadata": {
    "is_executing": true
   },
   "outputs": [],
   "source": [
    "distanze = []\n",
    "for nodo in G.nodes:\n",
    "    lunghezze = nx.single_source_shortest_path_length(G, nodo)\n",
    "    distanze.extend(lunghezze.values())\n",
    "\n",
    "distanza_media = sum(distanze) / len(distanze)\n",
    "distanza_massima = max(distanze)\n",
    "clustering_medio = nx.average_clustering(G)\n",
    "transitivita = nx.transitivity(G)"
   ]
  },
  {
   "cell_type": "markdown",
   "metadata": {},
   "source": [
    "_misure di centralità_"
   ]
  },
  {
   "cell_type": "code",
   "execution_count": null,
   "metadata": {
    "is_executing": true
   },
   "outputs": [],
   "source": [
    "betweenness_centrality = nx.betweenness_centrality(G)\n",
    "closeness_centrality = nx.closeness_centrality(G)\n",
    "degree_centrality = nx.degree_centrality(G)\n",
    "in_degree_centrality = nx.in_degree_centrality(G)\n",
    "out_degree_centrality = nx.out_degree_centrality(G)\n",
    "page_rank = nx.pagerank(G)\n",
    "\n",
    "centrality_measures = {}\n",
    "for nodo in G.nodes:\n",
    "    centrality_measures[nodo] = {\n",
    "        \"betweenness_centrality\": betweenness_centrality.get(nodo, 0),\n",
    "        \"closeness_centrality\": closeness_centrality.get(nodo, 0),\n",
    "        \"degree_centrality\": degree_centrality.get(nodo, 0),\n",
    "        \"in_degree_centrality\": in_degree_centrality.get(nodo, 0),\n",
    "        \"out_degree_centrality\": out_degree_centrality.get(nodo, 0),\n",
    "        \"page_rank\": page_rank.get(nodo, 0)\n",
    "    }"
   ]
  },
  {
   "cell_type": "code",
   "execution_count": null,
   "metadata": {
    "is_executing": true
   },
   "outputs": [],
   "source": [
    "risultati = {\n",
    "    \"global_metrics\": {\n",
    "        \"graph_center\": [\"non calcolabile\"],\n",
    "        \"radius\": \"non calcolabile\",\n",
    "        \"average_distance\": distanza_media,\n",
    "        \"max_distance\": distanza_massima,\n",
    "        \"clustering_coefficient\": clustering_medio,\n",
    "        \"transitivity\": transitivita,\n",
    "    },\n",
    "    \"centrality_measures\": centrality_measures,\n",
    "    \"small_worldness\": \"non calcolabile\"\n",
    "}\n",
    "\n",
    "with open(\"misure_grafo_diretto.json\", \"w\") as f:\n",
    "    json.dump(risultati, f, indent=4)\n",
    "\n",
    "print(\"Analisi completa salvata in misure_grafo_diretto.json\")"
   ]
  },
  {
   "cell_type": "markdown",
   "metadata": {},
   "source": [
    "_GRAFO ARTIFICIALE_"
   ]
  },
  {
   "cell_type": "markdown",
   "metadata": {},
   "source": [
    "_misure globali_"
   ]
  },
  {
   "cell_type": "code",
   "execution_count": null,
   "metadata": {
    "is_executing": true
   },
   "outputs": [],
   "source": [
    "centro = nx.center(G2)\n",
    "raggio = nx.radius(G2)\n",
    "distanza_media = nx.average_shortest_path_length(G2)\n",
    "distanza_massima = nx.diameter(G2)\n",
    "clustering_medio = nx.average_clustering(G2)\n",
    "transitivita = nx.transitivity(G2)"
   ]
  },
  {
   "cell_type": "markdown",
   "metadata": {},
   "source": [
    "_misure di centralità_"
   ]
  },
  {
   "cell_type": "code",
   "execution_count": null,
   "metadata": {
    "is_executing": true
   },
   "outputs": [],
   "source": [
    "betweenness_centrality = nx.betweenness_centrality(G2)\n",
    "closeness_centrality = nx.closeness_centrality(G2)\n",
    "degree_centrality = nx.degree_centrality(G2)\n",
    "\n",
    "centrality_measures = {}\n",
    "for nodo in G2.nodes:\n",
    "    centrality_measures[nodo] = {\n",
    "        \"betweenness_centrality\": betweenness_centrality.get(nodo, 0),\n",
    "        \"closeness_centrality\": closeness_centrality.get(nodo, 0),\n",
    "        \"degree_centrality\": degree_centrality.get(nodo, 0),\n",
    "        \"in_degree_centrality\": degree_centrality.get(nodo, 0),\n",
    "        \"out_degree_centrality\": degree_centrality.get(nodo, 0),\n",
    "        \"page_rank\": \"non calcolabile\"\n",
    "    }"
   ]
  },
  {
   "cell_type": "code",
   "execution_count": null,
   "metadata": {
    "is_executing": true
   },
   "outputs": [],
   "source": [
    "risultati = {\n",
    "    \"global_metrics\": {\n",
    "        \"graph_center\": centro,\n",
    "        \"radius\": raggio,\n",
    "        \"average_distance\": distanza_media,\n",
    "        \"max_distance\": distanza_massima,\n",
    "        \"clustering_coefficient\": clustering_medio,\n",
    "        \"transitivity\": transitivita,\n",
    "    },\n",
    "    \"centrality_measures\": centrality_measures,\n",
    "    \"small_worldness\": calcola_small_worldness(G2)\n",
    "}\n",
    "\n",
    "with open(\"misure_grafo_artificiale.json\", \"w\") as f:\n",
    "    json.dump(risultati, f, indent=4)\n",
    "\n",
    "print(\"Analisi completa salvata in misure_grafo_artificiale.json\")"
   ]
  }
 ],
 "metadata": {
  "colab": {
   "collapsed_sections": [
    "WogMcNsyZY4c",
    "9QJBTZSJZY4g",
    "Wdu8wajhZY4g",
    "saxGgnblZY4h"
   ],
   "provenance": []
  },
  "kernelspec": {
   "display_name": "Python 3",
   "language": "python",
   "name": "python3"
  },
  "language_info": {
   "codemirror_mode": {
    "name": "ipython",
    "version": 3
   },
   "file_extension": ".py",
   "mimetype": "text/x-python",
   "name": "python",
   "nbconvert_exporter": "python",
   "pygments_lexer": "ipython3",
   "version": "3.9.6"
  }
 },
 "nbformat": 4,
 "nbformat_minor": 0
}
